{
 "cells": [
  {
   "cell_type": "code",
   "execution_count": null,
   "id": "0ac7a4b5",
   "metadata": {},
   "outputs": [],
   "source": [
    "from datasets import load_dataset\n",
    "import pandas as pd\n",
    "\n",
    "# Load the dataset\n",
    "dataset_en = load_dataset(\"textdetox/multilingual_paradetox\", split=\"en\")\n",
    "dataset_de = load_dataset(\"textdetox/multilingual_paradetox\", split=\"de\")\n",
    "\n",
    "\n",
    "# Convert to pandas DataFrame\n",
    "df_en = pd.DataFrame(dataset_en)\n",
    "df_de = pd.DataFrame(dataset_de)"
   ]
  },
  {
   "cell_type": "code",
   "execution_count": null,
   "id": "e909af70",
   "metadata": {},
   "outputs": [
    {
     "name": "stdout",
     "output_type": "stream",
     "text": [
      "English Dataset Sample:\n",
      "                                      toxic_sentence  \\\n",
      "0  then all of a sudden i see her , shes now got ...   \n",
      "1  My page should be protected first so that wort...   \n",
      "2                        You made a mistake you ass.   \n",
      "3  you know more than these idiots , stay the cou...   \n",
      "4     piss me off , fuckin jerk , get on my nerves .   \n",
      "\n",
      "                                    neutral_sentence lang  \n",
      "0    All of a sudden i see her, she is all grown up.   en  \n",
      "1  My page should be protected first so that unpl...   en  \n",
      "2                                You made a mistake.   en  \n",
      "3  you know more than these people , stay the cou...   en  \n",
      "4                                   get on my nerves   en  \n"
     ]
    }
   ],
   "source": [
    "df_en[\"lang\"] = \"en\"\n",
    "df_de[\"lang\"] = \"de\"\n",
    "\n",
    "# Save to TSV\n",
    "df_en.to_csv(\"paradetox_en.tsv\", sep=\"\\t\", index=False)\n",
    "df_de.to_csv(\"paradetox_de.tsv\", sep=\"\\t\", index=False)\n",
    "\n",
    "# Print the first few rows of each DataFrame\n",
    "print(\"English Dataset Sample:\")\n",
    "print(df_en.head())"
   ]
  }
 ],
 "metadata": {
  "kernelspec": {
   "display_name": "pan25-detox-env",
   "language": "python",
   "name": "python3"
  },
  "language_info": {
   "codemirror_mode": {
    "name": "ipython",
    "version": 3
   },
   "file_extension": ".py",
   "mimetype": "text/x-python",
   "name": "python",
   "nbconvert_exporter": "python",
   "pygments_lexer": "ipython3",
   "version": "3.12.10"
  }
 },
 "nbformat": 4,
 "nbformat_minor": 5
}
