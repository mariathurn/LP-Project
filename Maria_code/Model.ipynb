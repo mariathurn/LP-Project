{
 "cells": [
  {
   "cell_type": "code",
   "execution_count": 1,
   "id": "7aeed474",
   "metadata": {},
   "outputs": [],
   "source": [
    "from datasets import load_dataset, concatenate_datasets\n",
    "\n",
    "from transformers import T5Tokenizer, T5ForConditionalGeneration\n",
    "import torch\n",
    "\n",
    "# Load tokenizer and model\n",
    "tokenizer = T5Tokenizer.from_pretrained(\"t5-small\")\n",
    "model = T5ForConditionalGeneration.from_pretrained(\"t5-small\")\n",
    "device = torch.device(\"cuda\" if torch.cuda.is_available() else \"cpu\")\n",
    "model.to(device)"
   ]
  },
  {
   "cell_type": "code",
   "execution_count": 2,
   "id": "826d378e",
   "metadata": {},
   "outputs": [
    {
     "name": "stderr",
     "output_type": "stream",
     "text": [
      "Map: 100%|██████████| 400/400 [00:00<00:00, 27019.50 examples/s]\n"
     ]
    },
    {
     "name": "stdout",
     "output_type": "stream",
     "text": [
      "{'toxic_sentence': 'then all of a sudden i see her , shes now got the big phony tits and everything .', 'neutral_sentence': 'All of a sudden i see her, she is all grown up.', 'input_text': 'detoxify: then all of a sudden i see her , shes now got the big phony tits and everything .', 'target_text': 'All of a sudden i see her, she is all grown up.'}\n"
     ]
    }
   ],
   "source": [
    "# ---------- Preprocessing Functions ----------\n",
    "def preprocess_paradetox(example):\n",
    "    return {\n",
    "        \"input_text\": \"detoxify: \" + example[\"toxic_sentence\"],\n",
    "        \"target_text\": example[\"neutral_sentence\"]\n",
    "    }\n",
    "\n",
    "def preprocess_snlp(example):\n",
    "    return {\n",
    "        \"input_text\": \"detoxify: \" + example[\"en_toxic_comment\"],\n",
    "        \"target_text\": example[\"en_neutral_comment\"]\n",
    "    }\n",
    "\n",
    "def clean_columns(dataset):\n",
    "    return dataset.remove_columns(\n",
    "        [col for col in dataset.column_names if col not in [\"input_text\", \"target_text\"]]\n",
    "    )"
   ]
  },
  {
   "cell_type": "code",
   "execution_count": 3,
   "id": "606ae687",
   "metadata": {},
   "outputs": [
    {
     "name": "stdout",
     "output_type": "stream",
     "text": [
      "{'toxic_sentence': 'then all of a sudden i see her , shes now got the big phony tits and everything .', 'neutral_sentence': 'All of a sudden i see her, she is all grown up.', 'input_text': 'detoxify: then all of a sudden i see her , shes now got the big phony tits and everything .', 'target_text': 'All of a sudden i see her, she is all grown up.'}\n"
     ]
    }
   ],
   "source": [
    "# ---------- Load and Process Datasets ----------\n",
    "en_data = load_dataset(\"textdetox/multilingual_paradetox\", split=\"en\")\n",
    "en2_data = load_dataset(\"s-nlp/paradetox\", split=\"train\")  # assuming single split\n",
    "\n",
    "formatted = clean_columns(en_data.map(preprocess_paradetox))\n",
    "formatted2 = clean_columns(en2_data.map(preprocess_snlp))\n",
    "\n",
    "# ---------- Combine Datasets ----------\n",
    "combined_dataset = concatenate_datasets([formatted, formatted2])\n"
   ]
  },
  {
   "cell_type": "code",
   "execution_count": 3,
   "id": "e8e8ed8d",
   "metadata": {},
   "outputs": [],
   "source": [
    "def tokenize(examples):\n",
    "    # Tokenize inputs\n",
    "    model_inputs = tokenizer(\n",
    "        examples[\"input_text\"],\n",
    "        max_length=128,\n",
    "        padding=\"max_length\",\n",
    "        truncation=True\n",
    "    )\n",
    "\n",
    "    # Tokenize targets\n",
    "    with tokenizer.as_target_tokenizer():\n",
    "        labels = tokenizer(\n",
    "            examples[\"target_text\"],\n",
    "            max_length=128,\n",
    "            padding=\"max_length\",\n",
    "            truncation=True\n",
    "        )\n",
    "\n",
    "    # Mask padding tokens in labels\n",
    "    labels[\"input_ids\"] = [\n",
    "        [(token if token != tokenizer.pad_token_id else -100) for token in label_seq]\n",
    "        for label_seq in labels[\"input_ids\"]\n",
    "    ]\n",
    "\n",
    "    model_inputs[\"labels\"] = labels[\"input_ids\"]\n",
    "    return model_inputs"
   ]
  },
  {
   "cell_type": "code",
   "execution_count": 4,
   "id": "f6dc7024",
   "metadata": {},
   "outputs": [
    {
     "ename": "NameError",
     "evalue": "name 'combined_dataset' is not defined",
     "output_type": "error",
     "traceback": [
      "\u001b[31m---------------------------------------------------------------------------\u001b[39m",
      "\u001b[31mNameError\u001b[39m                                 Traceback (most recent call last)",
      "\u001b[36mCell\u001b[39m\u001b[36m \u001b[39m\u001b[32mIn[4]\u001b[39m\u001b[32m, line 2\u001b[39m\n\u001b[32m      1\u001b[39m \u001b[38;5;66;03m# Tokenize and split\u001b[39;00m\n\u001b[32m----> \u001b[39m\u001b[32m2\u001b[39m tokenized_dataset = \u001b[43mcombined_dataset\u001b[49m.map(tokenize, batched=\u001b[38;5;28;01mTrue\u001b[39;00m)\n\u001b[32m      4\u001b[39m \u001b[38;5;66;03m# Optional: filter out empty label examples\u001b[39;00m\n\u001b[32m      5\u001b[39m tokenized_dataset = tokenized_dataset.filter(\u001b[38;5;28;01mlambda\u001b[39;00m x: \u001b[38;5;28many\u001b[39m(label != -\u001b[32m100\u001b[39m \u001b[38;5;28;01mfor\u001b[39;00m label \u001b[38;5;129;01min\u001b[39;00m x[\u001b[33m\"\u001b[39m\u001b[33mlabels\u001b[39m\u001b[33m\"\u001b[39m]))\n",
      "\u001b[31mNameError\u001b[39m: name 'combined_dataset' is not defined"
     ]
    }
   ],
   "source": [
    "# Tokenize and split\n",
    "tokenized_dataset = combined_dataset.map(tokenize, batched=True)\n",
    "\n",
    "# Optional: filter out empty label examples\n",
    "tokenized_dataset = tokenized_dataset.filter(lambda x: any(label != -100 for label in x[\"labels\"]))\n",
    "\n",
    "# Split into train/test\n",
    "split_dataset = tokenized_dataset.train_test_split(test_size=0.1)\n",
    "train_dataset = split_dataset[\"train\"]\n",
    "eval_dataset = split_dataset[\"test\"]"
   ]
  },
  {
   "cell_type": "code",
   "execution_count": null,
   "id": "7accd455",
   "metadata": {},
   "outputs": [
    {
     "name": "stderr",
     "output_type": "stream",
     "text": [
      "C:\\Users\\jonaz\\AppData\\Local\\Temp\\ipykernel_13336\\741960794.py:20: FutureWarning: `tokenizer` is deprecated and will be removed in version 5.0.0 for `Seq2SeqTrainer.__init__`. Use `processing_class` instead.\n",
      "  trainer = Seq2SeqTrainer(\n"
     ]
    },
    {
     "data": {
      "text/html": [
       "\n",
       "    <div>\n",
       "      \n",
       "      <progress value='176' max='176' style='width:300px; height:20px; vertical-align: middle;'></progress>\n",
       "      [176/176 18:35, Epoch 7/8]\n",
       "    </div>\n",
       "    <table border=\"1\" class=\"dataframe\">\n",
       "  <thead>\n",
       " <tr style=\"text-align: left;\">\n",
       "      <th>Step</th>\n",
       "      <th>Training Loss</th>\n",
       "    </tr>\n",
       "  </thead>\n",
       "  <tbody>\n",
       "    <tr>\n",
       "      <td>100</td>\n",
       "      <td>0.000000</td>\n",
       "    </tr>\n",
       "  </tbody>\n",
       "</table><p>"
      ],
      "text/plain": [
       "<IPython.core.display.HTML object>"
      ]
     },
     "metadata": {},
     "output_type": "display_data"
    },
    {
     "data": {
      "text/plain": [
       "TrainOutput(global_step=176, training_loss=0.0, metrics={'train_runtime': 1124.2355, 'train_samples_per_second': 2.562, 'train_steps_per_second': 0.157, 'total_flos': 827341830881280.0, 'train_loss': 0.0, 'epoch': 7.666666666666667})"
      ]
     },
     "execution_count": 76,
     "metadata": {},
     "output_type": "execute_result"
    }
   ],
   "source": [
    "from transformers import DataCollatorForSeq2Seq\n",
    "from transformers import EarlyStoppingCallback\n",
    "from transformers import Seq2SeqTrainingArguments\n",
    "from transformers import Seq2SeqTrainer\n",
    "\n",
    "\n",
    "data_collator = DataCollatorForSeq2Seq(tokenizer, model=model)\n",
    "\n",
    "# Training arguments\n",
    "args = Seq2SeqTrainingArguments(\n",
    "    output_dir=\"./mt5-detox-en\",\n",
    "    overwrite_output_dir=True,\n",
    "    per_device_train_batch_size=8,\n",
    "    gradient_accumulation_steps=2,\n",
    "    evaluation_strategy=\"epoch\",  \n",
    "    logging_strategy=\"steps\",\n",
    "    logging_steps=50,\n",
    "    learning_rate=3e-5,\n",
    "    num_train_epochs=3,\n",
    "    save_strategy=\"epoch\",  # May also need to be removed if very old\n",
    "    save_total_limit=2,\n",
    "    logging_dir=\"./logs_en\",\n",
    "    report_to=\"none\",\n",
    "    fp16=torch.cuda.is_available()\n",
    ")\n",
    "\n",
    "# Trainer setup\n",
    "trainer = Seq2SeqTrainer(\n",
    "    model=model,\n",
    "    args=args,\n",
    "    train_dataset=train_dataset,\n",
    "    eval_dataset=eval_dataset,\n",
    "    data_collator=data_collator,\n",
    "    evaluation_strategy=\"epoch\",\n",
    "    save_strategy=\"epoch\",\n",
    "    load_best_model_at_end=True,\n",
    "    tokenizer=tokenizer\n",
    ")\n",
    "\n",
    "# Train the model\n",
    "trainer.train()\n"
   ]
  },
  {
   "cell_type": "code",
   "execution_count": null,
   "id": "8b388b0e",
   "metadata": {},
   "outputs": [
    {
     "ename": "NameError",
     "evalue": "name 'tokenizer' is not defined",
     "output_type": "error",
     "traceback": [
      "\u001b[31m---------------------------------------------------------------------------\u001b[39m",
      "\u001b[31mNameError\u001b[39m                                 Traceback (most recent call last)",
      "\u001b[36mCell\u001b[39m\u001b[36m \u001b[39m\u001b[32mIn[1]\u001b[39m\u001b[32m, line 3\u001b[39m\n\u001b[32m      1\u001b[39m \u001b[38;5;66;03m# Prepare input\u001b[39;00m\n\u001b[32m      2\u001b[39m input_text = \u001b[33m\"\u001b[39m\u001b[33mYou are ugly\u001b[39m\u001b[33m\"\u001b[39m\n\u001b[32m----> \u001b[39m\u001b[32m3\u001b[39m inputs = \u001b[43mtokenizer\u001b[49m(input_text, return_tensors=\u001b[33m\"\u001b[39m\u001b[33mpt\u001b[39m\u001b[33m\"\u001b[39m, padding=\u001b[38;5;28;01mTrue\u001b[39;00m, truncation=\u001b[38;5;28;01mTrue\u001b[39;00m).to(device)\n\u001b[32m      5\u001b[39m \u001b[38;5;66;03m# Generate detoxified output\u001b[39;00m\n\u001b[32m      6\u001b[39m output = model.generate(\n\u001b[32m      7\u001b[39m     **inputs,\n\u001b[32m      8\u001b[39m     max_length=\u001b[32m50\u001b[39m,\n\u001b[32m   (...)\u001b[39m\u001b[32m     11\u001b[39m     decoder_start_token_id=tokenizer.pad_token_id  \u001b[38;5;66;03m# force decoder to start properly\u001b[39;00m\n\u001b[32m     12\u001b[39m )\n",
      "\u001b[31mNameError\u001b[39m: name 'tokenizer' is not defined"
     ]
    }
   ],
   "source": [
    "# Prepare input\n",
    "input_text = \"You are ugly\"\n",
    "inputs = tokenizer(input_text, return_tensors=\"pt\", padding=True, truncation=True).to(device)\n",
    "\n",
    "# Generate detoxified output\n",
    "output = model.generate(\n",
    "    **inputs,\n",
    "    max_length=50,\n",
    "    num_beams=4,                      # optional: beam search improves fluency\n",
    "    early_stopping=True,              # stop generation when EOS is reached\n",
    "    decoder_start_token_id=tokenizer.pad_token_id  # force decoder to start properly\n",
    ")\n",
    "\n",
    "# Decode the generated output\n",
    "decoded = tokenizer.decode(output[0])\n",
    "print(\"Detoxified:\", decoded)\n"
   ]
  }
 ],
 "metadata": {
  "kernelspec": {
   "display_name": ".venv",
   "language": "python",
   "name": "python3"
  },
  "language_info": {
   "codemirror_mode": {
    "name": "ipython",
    "version": 3
   },
   "file_extension": ".py",
   "mimetype": "text/x-python",
   "name": "python",
   "nbconvert_exporter": "python",
   "pygments_lexer": "ipython3",
   "version": "3.12.10"
  }
 },
 "nbformat": 4,
 "nbformat_minor": 5
}
